{
  "cells": [
    {
      "cell_type": "markdown",
      "metadata": {
        "id": "NqtmEXONlGRN"
      },
      "source": [
        "\n",
        "#Graph methods for imaging, Vision and computing (B31RX) 2024\n",
        "\n",
        "##Tutorial 5: Bayesian filtering with a discrete state space\n",
        "\n",
        "In this tutorial, we will implement a Bayesian filter for online estimation of a (scalar) discrete state. We will first derive the data update step and then investigate the prediction step.\n",
        "\n"
      ]
    },
    {
      "cell_type": "markdown",
      "source": [
        "## Background\n",
        "\n",
        "### Bayesian model:\n",
        "\n",
        "We consider a simple state denoted $x_t ∈ \\{0, ..., K-1\\}$, which can take $K$ values at\n",
        "each time instant. This state can vary over time with $t ∈ \\{1, ..., T\\}$\n",
        "\n",
        "\n",
        "The variations of $x$ over time is modelled by a\n",
        "homogeneous order-1 Markov chain such that the  probabilities\n",
        "\n",
        "$$f(x_{t+1} = i | x_t = j) = π_{i,j}$$\n",
        "\n",
        "are assumed to be known. Note that:\n",
        "$Σ_{i=0}^{K-1} π_{i,j} = 1$.\n",
        "\n",
        "This state is the parameter we try to estimate but it is not directly measured. Instead, we observe sequentially a set of observations $y_1, \\ldots, y_T$ distributed to binomial distributions as follows:\n",
        "\n",
        "$$\n",
        "y_t | (x_t = i) \\sim \\text{Binomial}(N, \\beta_i),\n",
        "$$\n",
        "\n",
        "where $N$ is a known integer and $\\beta_0, \\ldots, \\beta_{K-1}$ are a set of known probabilities. More precisely, if $x_t = i$, the observation $y_t$ follows a binomial distribution whose probability of success depends on the value of the state $x_t$. The probability mass function of Binomial distribution with parameters $(N, \\beta)$ is given by\n",
        "\n",
        "$$\n",
        "f(y|N, \\beta) = \\binom{N}{y} \\beta^y (1 - \\beta)^{N-y}.\n",
        "$$\n",
        "\n",
        "For simplicity, the parameter $N$ is shared across all models and does not depend on $x_t$. It should be noted that the data likelihood should be denoted by $f(y_t | (x_t = i, N, \\beta_i))$. However, since $N$ and $\\beta = \\{\\beta_0, \\ldots, \\beta_{K-1}\\}$ are assumed to be known and fixed, they are omitted to simplify the notation."
      ],
      "metadata": {
        "id": "KcXwFjOJnb0h"
      }
    },
    {
      "cell_type": "markdown",
      "source": [
        "### Question 1\n",
        "\n",
        "Assuming that $N$ and $\\beta = \\{\\beta_0, \\ldots, \\beta_{K-1}\\}$ are known and that $x_t \\in \\{0, \\ldots, K-1\\}$, derive the expression of the MLE of $x_t$ (based on $y_t$)."
      ],
      "metadata": {
        "id": "uSZmkQXNvAR6"
      }
    },
    {
      "cell_type": "markdown",
      "source": [
        "$$\\color{blue}{\n",
        "\\hat{x}_{\\text{MLE},t} = \\text{argmax}_{x_t \\in \\{0, \\ldots, K-1\\}} f(y_t | x_t)\n",
        "}$$\n",
        "\n",
        "$$\\color{blue}{\n",
        "\\hat{x}_{\\text{MLE},t} = \\text{argmax}_{x_t \\in \\{0, \\ldots, K-1\\}} \\log(f(y_t | x_t))\n",
        "}$$\n",
        "\n",
        "$$\\color{blue}{\n",
        "\\hat{x}_{\\text{MLE},t} = \\text{argmax}_{x_t \\in \\{0, \\ldots, K-1\\}} [y_t \\log(\\beta_i) + (N - y_t) \\log(1 - \\beta_i)]\n",
        "}$$"
      ],
      "metadata": {
        "id": "hcoNmzP9vm2m"
      }
    },
    {
      "cell_type": "markdown",
      "source": [
        "### Question 2\n",
        "\n",
        "Open the file $\\texttt{data_tutorial5_K=3_N=10.mat}$ and visualise the data in the variable $y$. It corresponds to $T = 1000$ observations associated with a state $x$ taking $K = 3$ values. The corresponding variables $N$ and $\\beta$ are also provided in the file. For each time instant, compute the MLE of $x_t$, and compare the estimate sequence to the ground truth state also provided in the file. What do you observe?"
      ],
      "metadata": {
        "id": "knyN4s9iwn7R"
      }
    },
    {
      "cell_type": "markdown",
      "source": [
        "$\\color{blue}{\\text{The MLE is generally good but the state is sometimes incorrectly estimated because of the observation noise.}}$"
      ],
      "metadata": {
        "id": "ZQDI91vMxZL1"
      }
    },
    {
      "cell_type": "markdown",
      "source": [
        "### Question 3\n",
        "\n",
        "Before introducing the Bayesian filter, let's assume that a fixed prior distribution is assigned to $x_t$, i.e., we assume $f(x_t = i) = \\alpha_i$, with $\\{\\alpha_i\\}$ being known and $\\sum_{i=0}^{K-1} \\alpha_i = 1$.\n",
        "\n",
        "Derive the expression of the MAP estimator of $x_t$ (based on $y_t$ and $(\\alpha_0, \\ldots, \\alpha_{K-1})$).\n",
        "\n",
        "\n"
      ],
      "metadata": {
        "id": "LX3rjQRRxdFP"
      }
    },
    {
      "cell_type": "markdown",
      "source": [
        "$$\\color{blue}{\n",
        "\\hat{x}_{\\text{MAP},t} = \\text{argmax}_{x_t \\in \\{0, \\ldots, K-1\\}} f(x_t | y_t)\n",
        "}$$\n",
        "\n",
        "$$\\color{blue}{\n",
        "\\hat{x}_{\\text{MAP},t} = \\text{argmax}_{x_t \\in \\{0, \\ldots, K-1\\}} \\log(f(x_t | y_t))\n",
        "}$$\n",
        "\n",
        "$$\\color{blue}{\n",
        "\\hat{x}_{\\text{MAP},t} = \\text{argmax}_{x_t \\in \\{0, \\ldots, K-1\\}} [y_t \\log(\\beta_i) + (N - y_t) \\log(1 - \\beta_i) + \\log(\\alpha_i)]\n",
        "}$$\n"
      ],
      "metadata": {
        "id": "V8AdUbtax3F1"
      }
    },
    {
      "cell_type": "markdown",
      "source": [
        "### Question 4\n",
        "\n",
        "Using the prior distribution defined by $f(x_t = i) = \\alpha_i$, compute the posterior distribution of $x_t$, i.e., $f(x_t | y_t, \\alpha_0, \\ldots, \\alpha_{K-1})$."
      ],
      "metadata": {
        "id": "CdGbi2dPzIPZ"
      }
    },
    {
      "cell_type": "markdown",
      "source": [
        "$\\color{blue}{\\text{\n",
        "Using the Bayes' rule, we have\n",
        "}}$\n",
        "\n",
        "$$\\color{blue}{\n",
        "f(x_t = i | y_t, \\alpha_0, \\ldots, \\alpha_{K-1}) \\propto f(y_t | x_t = i) f(x_t = i).\n",
        "}$$\n",
        "\n",
        "$\\color{blue}{\\text{\n",
        "Since $x_t$ can only take a finite number of values and $\\sum_{j=0}^{K-1} f(x_t = j | y_t, \\alpha_0, \\ldots, \\alpha_{K-1}) = 1$, the normalised posterior probabilities reduce to\n",
        "}}$\n",
        "\n",
        "$$\\color{blue}{\n",
        "f(x_t = i | y_t, \\alpha_0, \\ldots, \\alpha_{K-1}) = \\frac{f(y_t | x_t = i) f(x_t = i)}{\\sum_{j=0}^{K-1} f(y_t | x_t = j) f(x_t = j)}\n",
        "}$$"
      ],
      "metadata": {
        "id": "k7yJsxCEzWq0"
      }
    },
    {
      "cell_type": "markdown",
      "source": [
        "### Question 5\n",
        "\n",
        "Using the Bayesian filter, we will not use a fixed prior $f(x_t)$ as in Question 3 and Question 4, but the distribution $f(x_{t-1} | \\mathbf{y}_{t-1})$ where $\\mathbf{y}_{t-1} = \\{y_1, \\ldots, y_{t-1}\\}$.\n",
        "\n",
        "For simplicity, let's introduce $\\gamma_i = f(x_{t-1} = i|\\mathbf{y}_{t-1})$. This probability is obtained after the data update at iteration $(t - 1)$. By marginalising $f(x_t, x_{t-1} | \\mathbf{y}_{t-1})$, compute the adaptive prior distribution $f(x_t=i | \\mathbf{y}_{t-1})$."
      ],
      "metadata": {
        "id": "WXpx6xucz5qz"
      }
    },
    {
      "cell_type": "markdown",
      "source": [
        "$$\\color{blue}{\n",
        "\\begin{align*}\n",
        "f(x_t = i | \\mathbf{y}_{t-1}) &= \\sum_{j=0}^{K-1} f(x_t = i, x_{t-1} = j | \\mathbf{y}_{t-1}) \\\\\n",
        "&= \\sum_{j=0}^{K-1} f(x_t = i | x_{t-1} = j) f(x_{t-1} = j | \\mathbf{y}_{t-1}) \\\\\n",
        "&= \\sum_{j=0}^{K-1} \\pi_{ij} \\gamma_j\n",
        "\\end{align*}\n",
        "}$$"
      ],
      "metadata": {
        "id": "RDoYO7wc0Jvt"
      }
    },
    {
      "cell_type": "markdown",
      "source": [
        "### Question 6\n",
        "\n",
        "Question 6\n",
        "\n",
        "Show that the computation of the predictive distribution $f(x_t = i | \\mathbf{y}_{t-1})$ (for all $i$) can be computed using the multiplication of a $K \\times K$ matrix by a $K \\times 1$ vector.\n"
      ],
      "metadata": {
        "id": "Bu_XMy033CQf"
      }
    },
    {
      "cell_type": "markdown",
      "source": [
        "$$\\color{blue}{\n",
        "\\begin{bmatrix}\n",
        "f(x_t = 0 | \\mathbf{y}_{t-1}) \\\\\n",
        "\\vdots \\\\\n",
        "f(x_t = K-1 | \\mathbf{y}_{t-1})\n",
        "\\end{bmatrix}\n",
        "=\n",
        "\\begin{bmatrix}\n",
        "\\pi_{0,0} & \\cdots & \\pi_{0,K-1} \\\\\n",
        "\\vdots & \\ddots & \\vdots \\\\\n",
        "\\pi_{K-1,0} & \\cdots & \\pi_{K-1,K-1}\n",
        "\\end{bmatrix}\n",
        "\\begin{bmatrix}\n",
        "f(x_{t-1} = 0 | \\mathbf{y}_{t-1}) \\\\\n",
        "\\vdots \\\\\n",
        "f(x_{t-1} = K-1 | \\mathbf{y}_{t-1})\n",
        "\\end{bmatrix}\n",
        "}$$\n",
        "\n",
        "\n",
        "\n",
        "$$\\color{blue}{\n",
        "\\begin{bmatrix}\n",
        "f(x_t = 0 | \\mathbf{y}_{t-1}) \\\\\n",
        "\\vdots \\\\\n",
        "f(x_t = K-1 | \\mathbf{y}_{t-1})\n",
        "\\end{bmatrix}\n",
        "=\n",
        "\\mathbf{P}\n",
        "\\begin{bmatrix}\n",
        "\\gamma_0 \\\\\n",
        "\\vdots \\\\\n",
        "\\gamma_{K-1}\n",
        "\\end{bmatrix}\n",
        "}$$\n",
        "\n",
        "$\\color{blue}{\\text{\n",
        "With $\\mathbf{P}$ defined as:\n",
        "}}$\n",
        "\n",
        "$$\\color{blue}{\n",
        "\\mathbf{P} =\n",
        "\\begin{bmatrix}\n",
        "\\pi_{0,0} & \\cdots & \\pi_{0,K-1} \\\\\n",
        "\\vdots & \\ddots & \\vdots \\\\\n",
        "\\pi_{K-1,0} & \\cdots & \\pi_{K-1,K-1}\n",
        "\\end{bmatrix}\n",
        "}$$\n"
      ],
      "metadata": {
        "id": "T5GrKzSj3cy4"
      }
    },
    {
      "cell_type": "markdown",
      "source": [
        "### Question 7\n",
        "\n",
        "Use the data in the file $\\texttt{data_tutorial5_K=3_N=10.mat}$ to implement your Bayesian filter.\n",
        "\n",
        "Initialise the prior for the initial state as follows (with strongly believe the initial state is 0 or 1):\n",
        "\n",
        "$$\n",
        "\\begin{cases}\n",
        "f(x_1 = 0) = 0.9 \\\\\n",
        "f(x_1 = 1) = 0.1 \\\\\n",
        "f(x_1 > 1) = 0\n",
        "\\end{cases}\n",
        "$$\n",
        "\n",
        "Set the transition probabilities as follows\n",
        "\n",
        "$$\n",
        "\\mathbf{P} = \\begin{bmatrix}\n",
        "0.99 & 0.005 & 0.01 \\\\\n",
        "0.01 & 0.99 & 0 \\\\\n",
        "0 & 0.005 & 0.99\n",
        "\\end{bmatrix}\n",
        "$$\n",
        "\n",
        "Compare the estimates obtained via Bayesian filter to those obtained via MLE."
      ],
      "metadata": {
        "id": "b46JJBDy4a04"
      }
    },
    {
      "cell_type": "markdown",
      "source": [
        "$\\color{blue}{\\text{\n",
        "The MLE is affected by the observation noise, while the Bayesian filter (with sequential MAP estimation) remains robust.\n",
        "}}$"
      ],
      "metadata": {
        "id": "IBfftsGv4cJd"
      }
    },
    {
      "cell_type": "markdown",
      "source": [
        "### Question 8\n",
        "\n",
        "Using the same filter, estimate the state sequence in the file $\\texttt{data_tutorial5_K=3_N=5.mat}$. This data corresponds to more noisy observations obtained with $N = 5$. What do you observe?\n",
        "\n",
        "\n"
      ],
      "metadata": {
        "id": "oKVRlh--5DFE"
      }
    },
    {
      "cell_type": "markdown",
      "source": [
        "$\\color{blue}{\\text{\n",
        "The MLE is more affected by the observation noise (which increases), while the Bayesian filter (with sequential MAP estimation) remains robust.\n",
        "}}$"
      ],
      "metadata": {
        "id": "D9d3-A8-5Cjh"
      }
    },
    {
      "cell_type": "markdown",
      "source": [
        "### Question 9 (Extra question)\n",
        "\n",
        "Modify your Bayesian filter assuming $K = 4$. Keep\n",
        "$$\n",
        "\\begin{cases}\n",
        "f(x_1 = 0) = 0.9 \\\\\n",
        "f(x_1 = 1) = 0.1 \\\\\n",
        "f(x_1 > 1) = 0\n",
        "\\end{cases}\n",
        "$$\n",
        "To define the initial prior distribution and use\n",
        "$$\n",
        "\\mathbf{P} = \\begin{bmatrix}\n",
        "0.99 & 0.005 & 0 & 0.05 \\\\\n",
        "0.01 & 0.99 & 0 & 0 \\\\\n",
        "0 & 0.005 & 0.99 & 0 \\\\\n",
        "0 & 0 & 0.01 & 0.95\n",
        "\\end{bmatrix}.\n",
        "$$\n",
        "\n",
        "Using the new filter, estimate the state sequences in the files\n",
        "\n",
        "$$\\texttt{data_tutorial5_K=4_N=5.mat}$$\n",
        "\n",
        "$$\\texttt{data_tutorial5_K=4_N=10.mat}$$\n",
        "\n",
        "What do you observe?"
      ],
      "metadata": {
        "id": "40W_5h0x51LS"
      }
    },
    {
      "cell_type": "markdown",
      "source": [
        "$\\color{blue}{\\text{\n",
        "The Bayesian filter is more robust than the MLE-based method as 1) the quality of the observations degrades and 2) as the similarity between the states increases (closer probabilities in the vector $\\beta$)\n",
        "}}$"
      ],
      "metadata": {
        "id": "K-4u0Lhx6etw"
      }
    },
    {
      "cell_type": "code",
      "source": [
        "import numpy as np\n",
        "import matplotlib.pyplot as plt\n",
        "from scipy.io import loadmat\n",
        "\n",
        "# Define the parameters and load the data\n",
        "data = loadmat('data_tutorial5_K=3_N=10.mat')\n",
        "\n",
        "# The data variable is a dictionary. We'll need to know the key names to access `T` and `N`\n",
        "# Let's print out the keys\n",
        "print(data.keys())\n",
        "\n",
        "T = data['T'][0,0]\n",
        "N = data['N'][0,0]\n",
        "bet = data['bet'][0]\n",
        "x = data['x'][0]\n",
        "y = data['y'][0]\n",
        "\n",
        "\n",
        "print(T)\n",
        "print(N)\n",
        "print(bet)\n",
        "print(x.shape)\n",
        "print(y.shape)"
      ],
      "metadata": {
        "colab": {
          "base_uri": "https://localhost:8080/"
        },
        "id": "ptICZR0a-rJf",
        "outputId": "3058e8a8-77b9-4a8f-966d-e14146f06d9d"
      },
      "execution_count": 8,
      "outputs": [
        {
          "output_type": "stream",
          "name": "stdout",
          "text": [
            "dict_keys(['__header__', '__version__', '__globals__', 'N', 'T', 'bet', 'x', 'y'])\n",
            "1000\n",
            "10\n",
            "[0.05 0.5  0.95]\n",
            "(1000,)\n",
            "(1000,)\n"
          ]
        }
      ]
    },
    {
      "cell_type": "code",
      "source": [
        "# Function to simulate discrete random variables\n",
        "def discreternd_custom(X, P):\n",
        "    cum_P = np.cumsum(P)\n",
        "    A = np.random.rand() < cum_P\n",
        "    ind = np.argmax(A)\n",
        "    return X[ind]\n",
        "\n",
        "X = np.array([0, 1, 2])\n",
        "# bet = np.array([0.05, 0.5, 0.95])\n",
        "prior = np.array([0.9, 0.1, 0])  # We know we start in state 0\n",
        "Pt = np.array([[0.99, 0.01, 0],\n",
        "               [0.005, 0.99, 0.005],\n",
        "               [0.01, 0, 0.99]]).T\n",
        "\n",
        "# X = np.array([0, 1, 2, 3])\n",
        "# bet = np.array([0.05, 0.3, 0.6, 0.95])\n",
        "# prior = np.array([0.9, 0.1, 0, 0])  # We know we start in state 0\n",
        "# Pt = np.array([[0.99, 0.01, 0, 0],\n",
        "#                [0.005, 0.99, 0.005, 0],\n",
        "#                [0, 0, 0.99, 0.01],\n",
        "#                [0.05, 0, 0, 0.95]]).T\n",
        "\n",
        "# Assuming T and N are defined in the loaded data\n",
        "x_MLE = np.zeros(T)\n",
        "x_MAP = np.zeros(T)\n",
        "log_likelihood = np.zeros((T, len(X)))\n",
        "posterior = np.zeros((len(X), T))\n",
        "\n",
        "# Main loop\n",
        "for t in range(T):\n",
        "    if t == 0:\n",
        "        Prob = Pt @ prior\n",
        "        x[t] = discreternd_custom(X, prior)\n",
        "    else:\n",
        "        x[t] = discreternd_custom(X, Pt[:, int(x[t-1])])\n",
        "    y[t] = np.random.binomial(N, bet[int(x[t])])\n",
        "\n",
        "    log_likelihood[t, :] = y[t] * np.log(bet) + (N - y[t]) * np.log(1 - bet)\n",
        "\n",
        "    # Compute MLE\n",
        "    x_MLE[t] = np.argmax(log_likelihood[t, :])\n",
        "\n",
        "    # Data update (KF)\n",
        "    log_posterior = log_likelihood[t, :] + np.log(prior)\n",
        "    b = log_posterior - np.max(log_posterior)\n",
        "    b = np.exp(b)\n",
        "    posterior[:, t] = b / np.sum(b)\n",
        "\n",
        "    # Prediction step (for time t+1)\n",
        "    prior = Pt @ posterior[:, t]\n",
        "    x_MAP[t] = np.argmax(b)\n",
        "\n",
        "# Plotting\n",
        "plt.figure()\n",
        "plt.subplot(311)\n",
        "plt.plot(x, label='Ground truth')\n",
        "plt.plot(x_MLE, 'r+', label='MLE')\n",
        "plt.plot(x_MAP, 'ko', label='Bayesian filter')\n",
        "plt.xlabel('Iterations')\n",
        "plt.ylabel('State')\n",
        "plt.legend()\n",
        "\n",
        "plt.subplot(312)\n",
        "plt.plot(y)\n",
        "plt.xlabel('Iterations')\n",
        "plt.ylabel('Observations')\n",
        "\n",
        "plt.subplot(313)\n",
        "plt.imshow(posterior, aspect='auto')\n",
        "plt.xlabel('Iterations')\n",
        "plt.title('Marginal posterior probabilities of the state')\n",
        "\n",
        "plt.tight_layout()\n",
        "plt.show()\n"
      ],
      "metadata": {
        "id": "1eigoDb88rdn",
        "colab": {
          "base_uri": "https://localhost:8080/",
          "height": 523
        },
        "outputId": "980be2b4-4d32-4421-eb2d-1a94567e2c00"
      },
      "execution_count": 9,
      "outputs": [
        {
          "output_type": "stream",
          "name": "stderr",
          "text": [
            "<ipython-input-9-e37f9a984218>:37: RuntimeWarning: divide by zero encountered in log\n",
            "  log_posterior = log_likelihood[t, :] + np.log(prior)\n"
          ]
        },
        {
          "output_type": "display_data",
          "data": {
            "text/plain": [
              "<Figure size 640x480 with 3 Axes>"
            ],
            "image/png": "[encoded data removed]"
          },
          "metadata": {}
        }
      ]
    }
  ],
  "metadata": {
    "kernelspec": {
      "display_name": "Python 3",
      "language": "python",
      "name": "python3"
    },
    "language_info": {
      "codemirror_mode": {
        "name": "ipython",
        "version": 3
      },
      "file_extension": ".py",
      "mimetype": "text/x-python",
      "name": "python",
      "nbconvert_exporter": "python",
      "pygments_lexer": "ipython3",
      "version": "3.9.18"
    },
    "colab": {
      "provenance": []
    }
  },
  "nbformat": 4,
  "nbformat_minor": 0
}