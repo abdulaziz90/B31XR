{
 "cells": [
  {
   "cell_type": "markdown",
   "metadata": {
    "id": "NqtmEXONlGRN"
   },
   "source": [
    "\n",
    "#Graph methods for imaging, Vision and computing (B31RX) 2025\n",
    "\n",
    "##Tutorial 7: Bayesian smoothing with Gaussian densities: the Rauch-Tung-Striebel (RTS) smoother\n",
    "\n",
    "In this tutorial, we will apply the sum-product algorithm to extend the Kalman filter from the THA and implement a Bayesian smoother for estimating a multivariate Gaussian state. Following the reasoning of tutorial 6, we will first derive the smoothing equations using the Bayes' rule (and variable elimination) and then investigate how the sum-product rules can be used to directly compute the marginal distributions of interest.\n"
   ]
  },
  {
   "cell_type": "markdown",
   "metadata": {
    "id": "KcXwFjOJnb0h"
   },
   "source": [
    "### Background\n",
    "\n",
    "#### Bayesian model:\n",
    "\n",
    "We consider a multivariate state denoted $ \\mathbf{p}_t \\in \\mathbb{R}^4 $. This state can vary over time with $ t \\in \\{1, \\dots, T\\} $.\n",
    "\n",
    "The variations of $ \\mathbf{p} $ over time are modelled a priori by a homogeneous order-1 Markov chain with transition kernel:\n",
    "\n",
    "$$\n",
    "f(\\mathbf{p}_t \\mid \\mathbf{p}_{t-1}) = \\mathcal{N}(\\mathbf{p}_t ; \\mathbf{Q} \\mathbf{p}_{t-1}, \\mathbf{R}),\n",
    "$$\n",
    "\n",
    "where $ \\mathbf{Q} $ and $ \\mathbf{R} $ have been defined in the THA.\n",
    "\n",
    "The state $ \\mathbf{p} $ is not observed directly. Instead, it is partially observed via the observations $ \\mathbf{y}_t \\in \\mathbb{R}^2 $, such that:\n",
    "\n",
    "$$\n",
    "\\mathbf{y}_t = \\mathbf{B} \\mathbf{p}_t + \\mathbf{w}_t,\n",
    "$$\n",
    "\n",
    "where $ \\mathbf{B} $ is also defined in the THA and $ \\mathbf{w}_t \\sim \\mathcal{N}(\\mathbf{w}_t; \\mathbf{0}, \\sigma_n^2 \\mathbf{I}_2) $.\n",
    "\n",
    "In the THA, we investigated a sequential, online filtering method to compute\n",
    "\n",
    "$$\n",
    "f(\\mathbf{p}_t \\mid \\mathbf{Y}_t),\n",
    "$$\n",
    "\n",
    "with $ \\mathbf{Y}_t = \\{ \\mathbf{y}_1, \\dots, \\mathbf{y}_t \\} $, i.e., the posterior distribution of $ \\mathbf{p}_t $ conditioned on all the observations previously observed (i.e., not the future observations).  \n",
    "Here we will compute the marginal distributions\n",
    "\n",
    "$$\n",
    "f(\\mathbf{p}_t \\mid \\mathbf{Y}_T), \\quad \\forall t\n",
    "$$\n",
    "\n",
    "which can be computed once the whole sequence of observations has been\n",
    "observed. The Bayesian filter associated with the Kalman filter is called the Rauch-Tung-Striebel (RTS) smoother.\n",
    "\n",
    "We will first show that the marginal distributions above can be computed analytically using a brute force approach by first computing the joint posterior distribution\n",
    "\n",
    "$$\n",
    "f(\\mathbf{p}_1, \\dots, \\mathbf{p}_T \\mid \\mathbf{Y}_T),\n",
    "$$\n",
    "\n",
    "and marginalising all but one state."
   ]
  },
  {
   "cell_type": "markdown",
   "metadata": {
    "id": "LQCW8ivnoL9y"
   },
   "source": [
    "### Question 1\n",
    "\n",
    "Does the joint prior distribution $ f(\\mathbf{p}_1, \\dots, \\mathbf{p}_T) $ belong to a known family of parametric distributions?  \n",
    "If so, explain which family and why."
   ]
  },
  {
   "cell_type": "markdown",
   "metadata": {
    "id": "rolqhIfBoWJZ"
   },
   "source": [
    "### Question 2\n",
    "\n",
    "Using Bayes' rule, show that $ f(\\mathbf{p}_1, \\dots, \\mathbf{p}_T \\mid \\mathbf{Y}_T) $ belongs to a known family of parametric distributions."
   ]
  },
  {
   "cell_type": "markdown",
   "metadata": {
    "id": "opCYziZboWGR"
   },
   "source": [
    "### Question 3\n",
    "\n",
    "Using the previous results, which family does $ f(\\mathbf{p}_t \\mid \\mathbf{Y}_T) $ belong to?  \n",
    "How can one compute its moments (e.g., mean and covariance)?\n",
    "\n",
    "This computation starting from $ f(\\mathbf{p}_1, \\dots, \\mathbf{p}_T \\mid \\mathbf{Y}_T) $ can be extremely expensive, especially for long sequences due to large matrix inversion required when marginalising variables. However, we can compute the marginals more efficiently using the **sum-product algorithm**."
   ]
  },
  {
   "cell_type": "markdown",
   "metadata": {
    "id": "os7ulJcvoWDS"
   },
   "source": [
    "### Question 4\n",
    "\n",
    "Draw the factor graph (FG) associated with the Bayesian model:\n",
    "\n",
    "$$\n",
    "f(\\mathbf{p}_1, \\dots, \\mathbf{p}_T, \\mathbf{y}_1, \\dots, \\mathbf{y}_T).\n",
    "$$"
   ]
  },
  {
   "cell_type": "markdown",
   "metadata": {
    "id": "8LT5H7mKoV36"
   },
   "source": [
    "### Question 5\n",
    "\n",
    "Is this graph a tree?"
   ]
  },
  {
   "cell_type": "markdown",
   "metadata": {
    "id": "Op1GPi5PoVwR"
   },
   "source": [
    "### Question 6\n",
    "\n",
    "Compute the messages from each leaf variable to their neighbours (factor nodes)."
   ]
  },
  {
   "cell_type": "markdown",
   "metadata": {
    "id": "ADscBNyZoVpR"
   },
   "source": [
    "### Question 7\n",
    "\n",
    "Starting from $ \\mathbf{p}_1 $, compute the messages propagating from $ t = 1 $ to $ t = T $."
   ]
  },
  {
   "cell_type": "markdown",
   "metadata": {
    "id": "lMlmCTuQoVhx"
   },
   "source": [
    "### Question 8\n",
    "\n",
    "Starting from $ \\mathbf{p}_T $, compute the messages propagating from $ t = T $ to $ t = 1 $."
   ]
  },
  {
   "cell_type": "markdown",
   "metadata": {
    "id": "JllpLv9loVax"
   },
   "source": [
    "### Question 9\n",
    "\n",
    "Implement the sum-product algorithm for this Bayesian model and, using the data of the **THA** (with and without missing data), compare the estimation results of the **Bayesian filter (THA)** and the **Bayesian smoother**.\n",
    "\n",
    "What do you remark in the case of missing data?"
   ]
  }
 ],
 "metadata": {
  "colab": {
   "provenance": []
  },
  "kernelspec": {
   "display_name": "Python 3",
   "language": "python",
   "name": "python3"
  },
  "language_info": {
   "codemirror_mode": {
    "name": "ipython",
    "version": 3
   },
   "file_extension": ".py",
   "mimetype": "text/x-python",
   "name": "python",
   "nbconvert_exporter": "python",
   "pygments_lexer": "ipython3",
   "version": "3.9.18"
  }
 },
 "nbformat": 4,
 "nbformat_minor": 0
}
